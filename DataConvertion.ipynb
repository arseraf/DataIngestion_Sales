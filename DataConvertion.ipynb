{
 "cells": [
  {
   "cell_type": "code",
   "execution_count": 1,
   "metadata": {},
   "outputs": [],
   "source": [
    "import pandas as pd\n",
    "import numpy as np\n",
    "from pathlib import Path \n"
   ]
  },
  {
   "cell_type": "code",
   "execution_count": 21,
   "metadata": {},
   "outputs": [],
   "source": [
    "# Nombramos la ruta hacia nuestros archivos del Dataset como una variable\n",
    "\n",
    "datasets_path = Path (\"G:\\Mi unidad\\Henry\\Data Science\\Henry Labs\\PI 01 b\\PI01_DATA_ENGINEERING\\Datasets\")\n"
   ]
  },
  {
   "cell_type": "code",
   "execution_count": 22,
   "metadata": {},
   "outputs": [
    {
     "name": "stdout",
     "output_type": "stream",
     "text": [
      "G:\\Mi unidad\\Henry\\Data Science\\Henry Labs\\PI 01 b\\PI01_DATA_ENGINEERING\\Datasets\\README.md\n",
      "G:\\Mi unidad\\Henry\\Data Science\\Henry Labs\\PI 01 b\\PI01_DATA_ENGINEERING\\Datasets\\producto.parquet\n",
      "G:\\Mi unidad\\Henry\\Data Science\\Henry Labs\\PI 01 b\\PI01_DATA_ENGINEERING\\Datasets\\sucursal.csv\n",
      "G:\\Mi unidad\\Henry\\Data Science\\Henry Labs\\PI 01 b\\PI01_DATA_ENGINEERING\\Datasets\\precios_semana_20200503.json\n",
      "G:\\Mi unidad\\Henry\\Data Science\\Henry Labs\\PI 01 b\\PI01_DATA_ENGINEERING\\Datasets\\precios_semana_20200413.csv\n",
      "G:\\Mi unidad\\Henry\\Data Science\\Henry Labs\\PI 01 b\\PI01_DATA_ENGINEERING\\Datasets\\precios_semana_20200518.txt\n",
      "G:\\Mi unidad\\Henry\\Data Science\\Henry Labs\\PI 01 b\\PI01_DATA_ENGINEERING\\Datasets\\precios_semanas_20200419_20200426.xlsx\n",
      "G:\\Mi unidad\\Henry\\Data Science\\Henry Labs\\PI 01 b\\PI01_DATA_ENGINEERING\\Datasets\\DataConversion.ipynb\n",
      "G:\\Mi unidad\\Henry\\Data Science\\Henry Labs\\PI 01 b\\PI01_DATA_ENGINEERING\\Datasets\\precios_semana_20200413_modif.csv\n",
      "G:\\Mi unidad\\Henry\\Data Science\\Henry Labs\\PI 01 b\\PI01_DATA_ENGINEERING\\Datasets\\producto.csv\n",
      "G:\\Mi unidad\\Henry\\Data Science\\Henry Labs\\PI 01 b\\PI01_DATA_ENGINEERING\\Datasets\\Output\n",
      "G:\\Mi unidad\\Henry\\Data Science\\Henry Labs\\PI 01 b\\PI01_DATA_ENGINEERING\\Datasets\\precios_semana_20200503_modif.csv\n",
      "G:\\Mi unidad\\Henry\\Data Science\\Henry Labs\\PI 01 b\\PI01_DATA_ENGINEERING\\Datasets\\precios_semana_20200518_modif.csv\n",
      "G:\\Mi unidad\\Henry\\Data Science\\Henry Labs\\PI 01 b\\PI01_DATA_ENGINEERING\\Datasets\\precios_semanas_20200419_20200426_modif.csv\n"
     ]
    }
   ],
   "source": [
    "# Obtenemos los archivos que están en el directorio\n",
    "\n",
    "for file in datasets_path.iterdir():\n",
    "    print (file)"
   ]
  }
 ],
 "metadata": {
  "kernelspec": {
   "display_name": "Python 3.10.1 64-bit",
   "language": "python",
   "name": "python3"
  },
  "language_info": {
   "codemirror_mode": {
    "name": "ipython",
    "version": 3
   },
   "file_extension": ".py",
   "mimetype": "text/x-python",
   "name": "python",
   "nbconvert_exporter": "python",
   "pygments_lexer": "ipython3",
   "version": "3.10.1"
  },
  "orig_nbformat": 4,
  "vscode": {
   "interpreter": {
    "hash": "e038e575f35dd289d7e3684377dff5dd74a086626e6db16524b72780456b9adf"
   }
  }
 },
 "nbformat": 4,
 "nbformat_minor": 2
}
